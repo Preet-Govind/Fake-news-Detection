{
 "cells": [
  {
   "cell_type": "code",
   "execution_count": 2,
   "metadata": {},
   "outputs": [],
   "source": [
    "#as of now i assume that taking much more bigger dataset would be better so for testing purpose i have taken new data set from kaggle competition as well \n",
    "#i have taken both the data set for operation , the above mentioned one and the one which my team had provided"
   ]
  },
  {
   "cell_type": "code",
   "execution_count": 20,
   "metadata": {},
   "outputs": [],
   "source": [
    "import pandas as pd\n",
    "import tensorflow as tf\n",
    "import os\n",
    "import re\n",
    "import numpy as np"
   ]
  },
  {
   "cell_type": "code",
   "execution_count": 21,
   "metadata": {},
   "outputs": [],
   "source": [
    "import pandas as pd\n",
    "import numpy as np\n",
    "import sklearn as skl\n",
    "import nltk as nltk\n",
    "#import nltk.corenlp as nlp\n",
    "import seaborn as sbn\n",
    "import nltk.grammar as grm\n",
    "import nltk.corpus as corpus\n",
    "\n",
    "from sklearn.model_selection import train_test_split\n",
    "from sklearn.metrics import confusion_matrix,accuracy_score,classification_report\n",
    "from sklearn.linear_model import PassiveAggressiveClassifier, LinearRegression\n",
    "from sklearn.feature_extraction import stop_words\n",
    "from sklearn.feature_extraction.text import TfidfVectorizer\n",
    "from sklearn import svm\n",
    "from sklearn.naive_bayes import MultinomialNB\n",
    "from sklearn.svm import LinearSVR,SVC\n",
    "import seaborn as sbn\n",
    "\n",
    "\n",
    "import xgboost as xgb\n",
    "\n",
    "from sklearn.feature_extraction.text import CountVectorizer\n",
    "from sklearn.neural_network import MLPClassifier"
   ]
  },
  {
   "cell_type": "code",
   "execution_count": 22,
   "metadata": {},
   "outputs": [],
   "source": [
    "# importing neural network libraries\n",
    "import tensorflow as tf\n",
    "from tensorflow.keras.preprocessing.text import Tokenizer\n",
    "from tensorflow.keras.preprocessing.sequence import pad_sequences\n",
    "from tensorflow.keras.models import Sequential\n",
    "from tensorflow.keras.layers import Dense, Dropout, Embedding, GRU, LSTM, RNN, SpatialDropout1D\n",
    "from string import punctuation\n",
    "\n",
    "from sklearn.model_selection import train_test_split\n",
    "import matplotlib.pyplot as pl"
   ]
  },
  {
   "cell_type": "code",
   "execution_count": 23,
   "metadata": {},
   "outputs": [],
   "source": [
    "df_1=pd.read_pickle(\"/home/rd/Desktop/prj/cleaned_df.pkl\")\n"
   ]
  },
  {
   "cell_type": "code",
   "execution_count": 24,
   "metadata": {},
   "outputs": [
    {
     "name": "stdout",
     "output_type": "stream",
     "text": [
      "(470, 8)\n"
     ]
    },
    {
     "data": {
      "text/html": [
       "<div>\n",
       "<style scoped>\n",
       "    .dataframe tbody tr th:only-of-type {\n",
       "        vertical-align: middle;\n",
       "    }\n",
       "\n",
       "    .dataframe tbody tr th {\n",
       "        vertical-align: top;\n",
       "    }\n",
       "\n",
       "    .dataframe thead th {\n",
       "        text-align: right;\n",
       "    }\n",
       "</style>\n",
       "<table border=\"1\" class=\"dataframe\">\n",
       "  <thead>\n",
       "    <tr style=\"text-align: right;\">\n",
       "      <th></th>\n",
       "      <th>link</th>\n",
       "      <th>published</th>\n",
       "      <th>title</th>\n",
       "      <th>text</th>\n",
       "      <th>author</th>\n",
       "      <th>label</th>\n",
       "      <th>clean_title</th>\n",
       "      <th>clean_text</th>\n",
       "    </tr>\n",
       "  </thead>\n",
       "  <tbody>\n",
       "    <tr>\n",
       "      <th>0</th>\n",
       "      <td>https://www.nytimes.com/2019/11/20/business/me...</td>\n",
       "      <td>2019-11-21T04:22:14</td>\n",
       "      <td>Media Workers Call Out Pay Gaps in Crowdsource...</td>\n",
       "      <td>With income inequality a focus of the current ...</td>\n",
       "      <td>[Marc Tracy, Tiffany Hsu]</td>\n",
       "      <td>0</td>\n",
       "      <td>media workers call pay gaps crowdsourced sprea...</td>\n",
       "      <td>income inequality focus current presidential c...</td>\n",
       "    </tr>\n",
       "    <tr>\n",
       "      <th>1</th>\n",
       "      <td>https://www.nytimes.com/2019/11/20/business/gm...</td>\n",
       "      <td>2019-11-21T00:07:24</td>\n",
       "      <td>G.M. Sues Rival Over Bribery Scheme as Union S...</td>\n",
       "      <td>Fiat Chrysler “was able to obtain unique advan...</td>\n",
       "      <td>[Neal E. Boudette]</td>\n",
       "      <td>0</td>\n",
       "      <td>gm sues rival bribery scheme union scandal exp...</td>\n",
       "      <td>fiat chrysler \"was able obtain unique advantag...</td>\n",
       "    </tr>\n",
       "    <tr>\n",
       "      <th>2</th>\n",
       "      <td>https://www.nytimes.com/2019/11/20/business/ho...</td>\n",
       "      <td>2019-11-21T01:58:42</td>\n",
       "      <td>U.S. Bill Supporting Hong Kong Rights Heads to...</td>\n",
       "      <td>A bill compelling the United States to support...</td>\n",
       "      <td>[David Yaffe-Bellany, Alan Rappeport]</td>\n",
       "      <td>0</td>\n",
       "      <td>us bill supporting hong kong rights heads trum...</td>\n",
       "      <td>bill compelling united states support pro demo...</td>\n",
       "    </tr>\n",
       "    <tr>\n",
       "      <th>3</th>\n",
       "      <td>https://www.nytimes.com/2019/11/20/business/tr...</td>\n",
       "      <td>2019-11-21T02:08:37</td>\n",
       "      <td>Trump Floats Tariff Exclusions for Apple at Te...</td>\n",
       "      <td>Jonathan Gold, a spokesman for Americans for F...</td>\n",
       "      <td>[Ana Swanson]</td>\n",
       "      <td>0</td>\n",
       "      <td>trump floats tariff exclusions apple texas man...</td>\n",
       "      <td>jonathan gold spokesman americans free trade l...</td>\n",
       "    </tr>\n",
       "    <tr>\n",
       "      <th>4</th>\n",
       "      <td>https://www.nytimes.com/2019/11/21/business/de...</td>\n",
       "      <td>2019-11-21T08:00:10</td>\n",
       "      <td>Henry Paulson Sounds Alarm: U.S.-China Relatio...</td>\n",
       "      <td>The United States and China will eventually se...</td>\n",
       "      <td>[Andrew Ross Sorkin]</td>\n",
       "      <td>0</td>\n",
       "      <td>henry paulson sounds alarm us china relations ...</td>\n",
       "      <td>united states china eventually settle differen...</td>\n",
       "    </tr>\n",
       "  </tbody>\n",
       "</table>\n",
       "</div>"
      ],
      "text/plain": [
       "                                                link            published  \\\n",
       "0  https://www.nytimes.com/2019/11/20/business/me...  2019-11-21T04:22:14   \n",
       "1  https://www.nytimes.com/2019/11/20/business/gm...  2019-11-21T00:07:24   \n",
       "2  https://www.nytimes.com/2019/11/20/business/ho...  2019-11-21T01:58:42   \n",
       "3  https://www.nytimes.com/2019/11/20/business/tr...  2019-11-21T02:08:37   \n",
       "4  https://www.nytimes.com/2019/11/21/business/de...  2019-11-21T08:00:10   \n",
       "\n",
       "                                               title  \\\n",
       "0  Media Workers Call Out Pay Gaps in Crowdsource...   \n",
       "1  G.M. Sues Rival Over Bribery Scheme as Union S...   \n",
       "2  U.S. Bill Supporting Hong Kong Rights Heads to...   \n",
       "3  Trump Floats Tariff Exclusions for Apple at Te...   \n",
       "4  Henry Paulson Sounds Alarm: U.S.-China Relatio...   \n",
       "\n",
       "                                                text  \\\n",
       "0  With income inequality a focus of the current ...   \n",
       "1  Fiat Chrysler “was able to obtain unique advan...   \n",
       "2  A bill compelling the United States to support...   \n",
       "3  Jonathan Gold, a spokesman for Americans for F...   \n",
       "4  The United States and China will eventually se...   \n",
       "\n",
       "                                  author  label  \\\n",
       "0              [Marc Tracy, Tiffany Hsu]      0   \n",
       "1                     [Neal E. Boudette]      0   \n",
       "2  [David Yaffe-Bellany, Alan Rappeport]      0   \n",
       "3                          [Ana Swanson]      0   \n",
       "4                   [Andrew Ross Sorkin]      0   \n",
       "\n",
       "                                         clean_title  \\\n",
       "0  media workers call pay gaps crowdsourced sprea...   \n",
       "1  gm sues rival bribery scheme union scandal exp...   \n",
       "2  us bill supporting hong kong rights heads trum...   \n",
       "3  trump floats tariff exclusions apple texas man...   \n",
       "4  henry paulson sounds alarm us china relations ...   \n",
       "\n",
       "                                          clean_text  \n",
       "0  income inequality focus current presidential c...  \n",
       "1  fiat chrysler \"was able obtain unique advantag...  \n",
       "2  bill compelling united states support pro demo...  \n",
       "3  jonathan gold spokesman americans free trade l...  \n",
       "4  united states china eventually settle differen...  "
      ]
     },
     "execution_count": 24,
     "metadata": {},
     "output_type": "execute_result"
    }
   ],
   "source": [
    "print(df_1.shape)\n",
    "df_1.head()"
   ]
  },
  {
   "cell_type": "code",
   "execution_count": 25,
   "metadata": {},
   "outputs": [
    {
     "data": {
      "text/plain": [
       "link           0\n",
       "published      0\n",
       "title          0\n",
       "text           0\n",
       "author         0\n",
       "label          0\n",
       "clean_title    0\n",
       "clean_text     0\n",
       "dtype: int64"
      ]
     },
     "execution_count": 25,
     "metadata": {},
     "output_type": "execute_result"
    }
   ],
   "source": [
    "df_1.isnull().sum()\n",
    "#yippie no missing values ! if its zero"
   ]
  },
  {
   "cell_type": "code",
   "execution_count": 26,
   "metadata": {},
   "outputs": [
    {
     "data": {
      "text/plain": [
       "(51, 33547, 3613)"
      ]
     },
     "execution_count": 26,
     "metadata": {},
     "output_type": "execute_result"
    }
   ],
   "source": [
    "length = []\n",
    "[length.append(len(str(text))) for text in df_1['text']]\n",
    "df_1['length'] = length\n",
    "df_1.head()\n",
    "\n",
    "min(df_1['length']), max(df_1['length']), round(sum(df_1['length'])/len(df_1['length']))"
   ]
  },
  {
   "cell_type": "code",
   "execution_count": 27,
   "metadata": {},
   "outputs": [],
   "source": [
    "#does it mean that we can keep 3600 features in nn\n",
    "#51 kahi ye outliers to nhi \n",
    "#just in case to verify this \n"
   ]
  },
  {
   "cell_type": "code",
   "execution_count": 28,
   "metadata": {},
   "outputs": [
    {
     "data": {
      "text/html": [
       "<div>\n",
       "<style scoped>\n",
       "    .dataframe tbody tr th:only-of-type {\n",
       "        vertical-align: middle;\n",
       "    }\n",
       "\n",
       "    .dataframe tbody tr th {\n",
       "        vertical-align: top;\n",
       "    }\n",
       "\n",
       "    .dataframe thead th {\n",
       "        text-align: right;\n",
       "    }\n",
       "</style>\n",
       "<table border=\"1\" class=\"dataframe\">\n",
       "  <thead>\n",
       "    <tr style=\"text-align: right;\">\n",
       "      <th></th>\n",
       "      <th>link</th>\n",
       "      <th>published</th>\n",
       "      <th>title</th>\n",
       "      <th>text</th>\n",
       "      <th>author</th>\n",
       "      <th>label</th>\n",
       "      <th>clean_title</th>\n",
       "      <th>clean_text</th>\n",
       "      <th>length</th>\n",
       "    </tr>\n",
       "  </thead>\n",
       "  <tbody>\n",
       "    <tr>\n",
       "      <th>0</th>\n",
       "      <td>https://www.nytimes.com/2019/11/20/business/me...</td>\n",
       "      <td>2019-11-21T04:22:14</td>\n",
       "      <td>Media Workers Call Out Pay Gaps in Crowdsource...</td>\n",
       "      <td>With income inequality a focus of the current ...</td>\n",
       "      <td>[Marc Tracy, Tiffany Hsu]</td>\n",
       "      <td>0</td>\n",
       "      <td>media workers call pay gaps crowdsourced sprea...</td>\n",
       "      <td>income inequality focus current presidential c...</td>\n",
       "      <td>1213</td>\n",
       "    </tr>\n",
       "    <tr>\n",
       "      <th>1</th>\n",
       "      <td>https://www.nytimes.com/2019/11/20/business/gm...</td>\n",
       "      <td>2019-11-21T00:07:24</td>\n",
       "      <td>G.M. Sues Rival Over Bribery Scheme as Union S...</td>\n",
       "      <td>Fiat Chrysler “was able to obtain unique advan...</td>\n",
       "      <td>[Neal E. Boudette]</td>\n",
       "      <td>0</td>\n",
       "      <td>gm sues rival bribery scheme union scandal exp...</td>\n",
       "      <td>fiat chrysler \"was able obtain unique advantag...</td>\n",
       "      <td>3104</td>\n",
       "    </tr>\n",
       "    <tr>\n",
       "      <th>2</th>\n",
       "      <td>https://www.nytimes.com/2019/11/20/business/ho...</td>\n",
       "      <td>2019-11-21T01:58:42</td>\n",
       "      <td>U.S. Bill Supporting Hong Kong Rights Heads to...</td>\n",
       "      <td>A bill compelling the United States to support...</td>\n",
       "      <td>[David Yaffe-Bellany, Alan Rappeport]</td>\n",
       "      <td>0</td>\n",
       "      <td>us bill supporting hong kong rights heads trum...</td>\n",
       "      <td>bill compelling united states support pro demo...</td>\n",
       "      <td>1303</td>\n",
       "    </tr>\n",
       "    <tr>\n",
       "      <th>3</th>\n",
       "      <td>https://www.nytimes.com/2019/11/20/business/tr...</td>\n",
       "      <td>2019-11-21T02:08:37</td>\n",
       "      <td>Trump Floats Tariff Exclusions for Apple at Te...</td>\n",
       "      <td>Jonathan Gold, a spokesman for Americans for F...</td>\n",
       "      <td>[Ana Swanson]</td>\n",
       "      <td>0</td>\n",
       "      <td>trump floats tariff exclusions apple texas man...</td>\n",
       "      <td>jonathan gold spokesman americans free trade l...</td>\n",
       "      <td>1887</td>\n",
       "    </tr>\n",
       "    <tr>\n",
       "      <th>4</th>\n",
       "      <td>https://www.nytimes.com/2019/11/21/business/de...</td>\n",
       "      <td>2019-11-21T08:00:10</td>\n",
       "      <td>Henry Paulson Sounds Alarm: U.S.-China Relatio...</td>\n",
       "      <td>The United States and China will eventually se...</td>\n",
       "      <td>[Andrew Ross Sorkin]</td>\n",
       "      <td>0</td>\n",
       "      <td>henry paulson sounds alarm us china relations ...</td>\n",
       "      <td>united states china eventually settle differen...</td>\n",
       "      <td>1035</td>\n",
       "    </tr>\n",
       "  </tbody>\n",
       "</table>\n",
       "</div>"
      ],
      "text/plain": [
       "                                                link            published  \\\n",
       "0  https://www.nytimes.com/2019/11/20/business/me...  2019-11-21T04:22:14   \n",
       "1  https://www.nytimes.com/2019/11/20/business/gm...  2019-11-21T00:07:24   \n",
       "2  https://www.nytimes.com/2019/11/20/business/ho...  2019-11-21T01:58:42   \n",
       "3  https://www.nytimes.com/2019/11/20/business/tr...  2019-11-21T02:08:37   \n",
       "4  https://www.nytimes.com/2019/11/21/business/de...  2019-11-21T08:00:10   \n",
       "\n",
       "                                               title  \\\n",
       "0  Media Workers Call Out Pay Gaps in Crowdsource...   \n",
       "1  G.M. Sues Rival Over Bribery Scheme as Union S...   \n",
       "2  U.S. Bill Supporting Hong Kong Rights Heads to...   \n",
       "3  Trump Floats Tariff Exclusions for Apple at Te...   \n",
       "4  Henry Paulson Sounds Alarm: U.S.-China Relatio...   \n",
       "\n",
       "                                                text  \\\n",
       "0  With income inequality a focus of the current ...   \n",
       "1  Fiat Chrysler “was able to obtain unique advan...   \n",
       "2  A bill compelling the United States to support...   \n",
       "3  Jonathan Gold, a spokesman for Americans for F...   \n",
       "4  The United States and China will eventually se...   \n",
       "\n",
       "                                  author  label  \\\n",
       "0              [Marc Tracy, Tiffany Hsu]      0   \n",
       "1                     [Neal E. Boudette]      0   \n",
       "2  [David Yaffe-Bellany, Alan Rappeport]      0   \n",
       "3                          [Ana Swanson]      0   \n",
       "4                   [Andrew Ross Sorkin]      0   \n",
       "\n",
       "                                         clean_title  \\\n",
       "0  media workers call pay gaps crowdsourced sprea...   \n",
       "1  gm sues rival bribery scheme union scandal exp...   \n",
       "2  us bill supporting hong kong rights heads trum...   \n",
       "3  trump floats tariff exclusions apple texas man...   \n",
       "4  henry paulson sounds alarm us china relations ...   \n",
       "\n",
       "                                          clean_text  length  \n",
       "0  income inequality focus current presidential c...    1213  \n",
       "1  fiat chrysler \"was able obtain unique advantag...    3104  \n",
       "2  bill compelling united states support pro demo...    1303  \n",
       "3  jonathan gold spokesman americans free trade l...    1887  \n",
       "4  united states china eventually settle differen...    1035  "
      ]
     },
     "execution_count": 28,
     "metadata": {},
     "output_type": "execute_result"
    }
   ],
   "source": [
    "df_1.head()"
   ]
  },
  {
   "cell_type": "code",
   "execution_count": 29,
   "metadata": {},
   "outputs": [
    {
     "data": {
      "text/plain": [
       "0"
      ]
     },
     "execution_count": 29,
     "metadata": {},
     "output_type": "execute_result"
    }
   ],
   "source": [
    "len(df_1[df_1['length'] < 50])"
   ]
  },
  {
   "cell_type": "code",
   "execution_count": 30,
   "metadata": {},
   "outputs": [],
   "source": [
    "#saved ! if its 0"
   ]
  },
  {
   "cell_type": "code",
   "execution_count": 31,
   "metadata": {},
   "outputs": [
    {
     "data": {
      "text/plain": [
       "Series([], Name: text, dtype: object)"
      ]
     },
     "execution_count": 31,
     "metadata": {},
     "output_type": "execute_result"
    }
   ],
   "source": [
    "df_1['text'][df_1['length'] < 50]"
   ]
  },
  {
   "cell_type": "code",
   "execution_count": 32,
   "metadata": {},
   "outputs": [],
   "source": [
    "max_features=3600"
   ]
  },
  {
   "cell_type": "code",
   "execution_count": 33,
   "metadata": {},
   "outputs": [
    {
     "data": {
      "text/plain": [
       "0      [income, inequality, focus, current, president...\n",
       "1      [fiat, chrysler, was, able, obtain, unique, ad...\n",
       "2      [bill, compelling, united, states, support, pr...\n",
       "3      [jonathan, gold, spokesman, americans, free, t...\n",
       "4      [united, states, china, eventually, settle, di...\n",
       "                             ...                        \n",
       "465    [looking, student, loan, might, definitely, he...\n",
       "466    [world, growing, digital, currencies, digital,...\n",
       "467    [love, traveling, would, surely, heard, new, b...\n",
       "468    [indigo, card, login, indigo, credit, cards, h...\n",
       "469    [mybpcreditcard, login, bp, credit, card, issu...\n",
       "Name: clean_text, Length: 470, dtype: object"
      ]
     },
     "execution_count": 33,
     "metadata": {},
     "output_type": "execute_result"
    }
   ],
   "source": [
    "#as the data set provided by my team is already preprocessed so i'm not proceeding with this\n",
    "x = df_1['clean_text']\n",
    "from nltk.tokenize import RegexpTokenizer\n",
    "import time\n",
    "\n",
    "\n",
    "tokenizer = RegexpTokenizer(r'\\w+')\n",
    "x = x.astype('str') \n",
    "x.dtypes\n",
    "\n",
    "x = x.apply(tokenizer.tokenize)\n",
    "# delete Stop Words\n",
    "\n",
    "#print('Time to tokenize everything: {} mins'.format(round((time() - t) / 60, 2)))\n",
    "x"
   ]
  },
  {
   "cell_type": "code",
   "execution_count": 34,
   "metadata": {},
   "outputs": [],
   "source": [
    "tokenizer = Tokenizer(num_words = max_features, filters='!\"#$%&()*+,-./:;<=>?@[\\\\]^_`{|}~\\t\\n', lower = True, split = ' ')\n",
    "tokenizer.fit_on_texts(texts = df_1['text'])\n",
    "x = tokenizer.texts_to_sequences(texts = df_1['text'])"
   ]
  },
  {
   "cell_type": "code",
   "execution_count": 35,
   "metadata": {},
   "outputs": [],
   "source": [
    "x = pad_sequences(sequences = x, maxlen = max_features, padding = 'pre',dtype=float)"
   ]
  },
  {
   "cell_type": "code",
   "execution_count": 36,
   "metadata": {},
   "outputs": [],
   "source": [
    "#x=df_1['clean_text']\n",
    "y=df_1['label']"
   ]
  },
  {
   "cell_type": "code",
   "execution_count": 37,
   "metadata": {},
   "outputs": [],
   "source": [
    "train_x,test_x,train_y,test_y=train_test_split(x,y,test_size=0.70,random_state=111)\n"
   ]
  },
  {
   "cell_type": "code",
   "execution_count": 38,
   "metadata": {},
   "outputs": [
    {
     "name": "stdout",
     "output_type": "stream",
     "text": [
      "WARNING:tensorflow:From /usr/local/lib/python3.6/dist-packages/tensorflow/python/keras/initializers.py:119: calling RandomUniform.__init__ (from tensorflow.python.ops.init_ops) with dtype is deprecated and will be removed in a future version.\n",
      "Instructions for updating:\n",
      "Call initializer instance with the dtype argument instead of passing it to the constructor\n",
      "WARNING:tensorflow:From /usr/local/lib/python3.6/dist-packages/tensorflow/python/ops/init_ops.py:1251: calling VarianceScaling.__init__ (from tensorflow.python.ops.init_ops) with dtype is deprecated and will be removed in a future version.\n",
      "Instructions for updating:\n",
      "Call initializer instance with the dtype argument instead of passing it to the constructor\n"
     ]
    }
   ],
   "source": [
    "lstm_model = Sequential(name = 'lstm_nn_mo')\n",
    "\n",
    "#layer 1 lstm\n",
    "lstm_model.add(layer = Embedding(input_dim = max_features, output_dim = 120, name = '1st_layer'))\n",
    "#l2\n",
    "lstm_model.add(layer = LSTM(units = 120, dropout = 0.2, recurrent_dropout = 0.2, name = '2nd_layer'))\n",
    "#l3\n",
    "lstm_model.add(layer = Dropout(rate = 0.5, name = '3rd_layer'))\n",
    "#l4\n",
    "lstm_model.add(layer = Dense(units = 120,  activation = 'relu', name = '4th_layer'))\n",
    "#l5\n",
    "lstm_model.add(layer = Dropout(rate = 0.5, name = '5th_layer'))\n",
    "#sigmoid \n",
    "lstm_model.add(layer = Dense(units = len(set(y)),  activation = 'sigmoid', name = 'output_layer'))\n",
    "# compiling the model\n",
    "lstm_model.compile(optimizer = 'adam', loss = 'sparse_categorical_crossentropy', metrics = ['accuracy'])\n"
   ]
  },
  {
   "cell_type": "code",
   "execution_count": null,
   "metadata": {
    "scrolled": true
   },
   "outputs": [
    {
     "name": "stdout",
     "output_type": "stream",
     "text": [
      "WARNING:tensorflow:From /usr/local/lib/python3.6/dist-packages/tensorflow/python/ops/math_grad.py:1250: add_dispatch_support.<locals>.wrapper (from tensorflow.python.ops.array_ops) is deprecated and will be removed in a future version.\n",
      "Instructions for updating:\n",
      "Use tf.where in 2.0, which has the same broadcast rule as np.where\n"
     ]
    }
   ],
   "source": [
    "lstm_model_fit = lstm_model.fit(train_x, train_y, epochs = 1)\n",
    "#epochs to be 20+ atleast , try when network good on collab"
   ]
  },
  {
   "cell_type": "code",
   "execution_count": null,
   "metadata": {},
   "outputs": [],
   "source": [
    "#now i split my dataset into two section\n",
    "#i have already made segregations for the test and training set from df_1\n",
    "import multiprocessing as mp\n",
    "cores = multiprocessing.cpu_count() \n",
    "# Count the number of cores in a computer, important for a parameter of the model\n",
    "train_model = train_x(min_count=20,\n",
    "                     window=2,\n",
    "                     size=300,\n",
    "                     sample=6e-5, \n",
    "                     alpha=0.03, \n",
    "                     min_alpha=0.0007, \n",
    "                     negative=20,\n",
    "                     workers=cores-1)\n",
    "\n",
    "#BUILD_VOCAB()\n",
    "t = time()\n",
    "train_model.build_vocab(x, progress_per=1000)\n",
    "print('Time to build vocab: {} mins'.format(round((time() - t) / 60, 2)))\n",
    "\n",
    "#TRAIN()\n",
    "train_model.train(x, total_examples=train_x.corpus_count, epochs=10000, report_delay=1)\n",
    "print('Time to train the model: {} mins'.format(round((time() - t) / 60, 2)))"
   ]
  },
  {
   "cell_type": "code",
   "execution_count": null,
   "metadata": {},
   "outputs": [],
   "source": []
  },
  {
   "cell_type": "code",
   "execution_count": null,
   "metadata": {},
   "outputs": [],
   "source": []
  }
 ],
 "metadata": {
  "kernelspec": {
   "display_name": "Python 3",
   "language": "python",
   "name": "python3"
  },
  "language_info": {
   "codemirror_mode": {
    "name": "ipython",
    "version": 3
   },
   "file_extension": ".py",
   "mimetype": "text/x-python",
   "name": "python",
   "nbconvert_exporter": "python",
   "pygments_lexer": "ipython3",
   "version": "3.8.10"
  }
 },
 "nbformat": 4,
 "nbformat_minor": 4
}
